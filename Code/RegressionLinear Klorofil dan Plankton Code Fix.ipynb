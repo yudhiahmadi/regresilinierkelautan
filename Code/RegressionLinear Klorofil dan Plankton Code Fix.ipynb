{
 "cells": [
  {
   "cell_type": "code",
   "execution_count": 1,
   "id": "94aebbff",
   "metadata": {},
   "outputs": [],
   "source": [
    "import numpy as np\n",
    "import pandas as pd\n",
    "import matplotlib.pyplot as plt\n",
    "import statsmodels.api as sm"
   ]
  },
  {
   "cell_type": "code",
   "execution_count": 2,
   "id": "15224d19",
   "metadata": {},
   "outputs": [],
   "source": [
    "data = pd.read_csv('klorofildanfitoplanktonfix.csv')"
   ]
  },
  {
   "cell_type": "code",
   "execution_count": 3,
   "id": "362bf93f",
   "metadata": {},
   "outputs": [
    {
     "data": {
      "text/html": [
       "<div>\n",
       "<style scoped>\n",
       "    .dataframe tbody tr th:only-of-type {\n",
       "        vertical-align: middle;\n",
       "    }\n",
       "\n",
       "    .dataframe tbody tr th {\n",
       "        vertical-align: top;\n",
       "    }\n",
       "\n",
       "    .dataframe thead th {\n",
       "        text-align: right;\n",
       "    }\n",
       "</style>\n",
       "<table border=\"1\" class=\"dataframe\">\n",
       "  <thead>\n",
       "    <tr style=\"text-align: right;\">\n",
       "      <th></th>\n",
       "      <th>chl [mg m-3]</th>\n",
       "      <th>phyc [mmol m-3]</th>\n",
       "    </tr>\n",
       "  </thead>\n",
       "  <tbody>\n",
       "    <tr>\n",
       "      <th>0</th>\n",
       "      <td>0.09910</td>\n",
       "      <td>1.83672</td>\n",
       "    </tr>\n",
       "    <tr>\n",
       "      <th>1</th>\n",
       "      <td>0.09933</td>\n",
       "      <td>1.84343</td>\n",
       "    </tr>\n",
       "    <tr>\n",
       "      <th>2</th>\n",
       "      <td>0.09967</td>\n",
       "      <td>1.83328</td>\n",
       "    </tr>\n",
       "    <tr>\n",
       "      <th>3</th>\n",
       "      <td>0.09939</td>\n",
       "      <td>1.81943</td>\n",
       "    </tr>\n",
       "    <tr>\n",
       "      <th>4</th>\n",
       "      <td>0.09993</td>\n",
       "      <td>1.81756</td>\n",
       "    </tr>\n",
       "    <tr>\n",
       "      <th>...</th>\n",
       "      <td>...</td>\n",
       "      <td>...</td>\n",
       "    </tr>\n",
       "    <tr>\n",
       "      <th>823510</th>\n",
       "      <td>0.12542</td>\n",
       "      <td>0.32362</td>\n",
       "    </tr>\n",
       "    <tr>\n",
       "      <th>823511</th>\n",
       "      <td>0.15281</td>\n",
       "      <td>0.39221</td>\n",
       "    </tr>\n",
       "    <tr>\n",
       "      <th>823512</th>\n",
       "      <td>0.15100</td>\n",
       "      <td>0.41870</td>\n",
       "    </tr>\n",
       "    <tr>\n",
       "      <th>823513</th>\n",
       "      <td>0.16022</td>\n",
       "      <td>0.43118</td>\n",
       "    </tr>\n",
       "    <tr>\n",
       "      <th>823514</th>\n",
       "      <td>0.17039</td>\n",
       "      <td>0.43357</td>\n",
       "    </tr>\n",
       "  </tbody>\n",
       "</table>\n",
       "<p>823515 rows × 2 columns</p>\n",
       "</div>"
      ],
      "text/plain": [
       "        chl [mg m-3]  phyc [mmol m-3]\n",
       "0            0.09910          1.83672\n",
       "1            0.09933          1.84343\n",
       "2            0.09967          1.83328\n",
       "3            0.09939          1.81943\n",
       "4            0.09993          1.81756\n",
       "...              ...              ...\n",
       "823510       0.12542          0.32362\n",
       "823511       0.15281          0.39221\n",
       "823512       0.15100          0.41870\n",
       "823513       0.16022          0.43118\n",
       "823514       0.17039          0.43357\n",
       "\n",
       "[823515 rows x 2 columns]"
      ]
     },
     "execution_count": 3,
     "metadata": {},
     "output_type": "execute_result"
    }
   ],
   "source": [
    "data"
   ]
  },
  {
   "cell_type": "code",
   "execution_count": 4,
   "id": "a3b01298",
   "metadata": {},
   "outputs": [
    {
     "data": {
      "text/plain": [
       "chl [mg m-3]       244299\n",
       "phyc [mmol m-3]    244299\n",
       "dtype: int64"
      ]
     },
     "execution_count": 4,
     "metadata": {},
     "output_type": "execute_result"
    }
   ],
   "source": [
    "data.isnull().sum()"
   ]
  },
  {
   "cell_type": "code",
   "execution_count": 6,
   "id": "5b748ee3",
   "metadata": {},
   "outputs": [],
   "source": [
    "datanew = data.dropna()"
   ]
  },
  {
   "cell_type": "code",
   "execution_count": 7,
   "id": "6b632a8f",
   "metadata": {},
   "outputs": [],
   "source": [
    "y = datanew['chl [mg m-3]']\n",
    "x1 = datanew['phyc [mmol m-3]']"
   ]
  },
  {
   "cell_type": "code",
   "execution_count": 11,
   "id": "922c8242",
   "metadata": {},
   "outputs": [
    {
     "data": {
      "image/png": "[encoded data removed]",
      "text/plain": [
       "<Figure size 432x288 with 1 Axes>"
      ]
     },
     "metadata": {
      "needs_background": "light"
     },
     "output_type": "display_data"
    }
   ],
   "source": [
    "plt.scatter(x1,y)\n",
    "plt.xlabel('fitoplankton',fontsize=20)\n",
    "plt.ylabel('klorofil',fontsize=20)\n",
    "plt.show()\n"
   ]
  },
  {
   "cell_type": "code",
   "execution_count": 9,
   "id": "22373d5e",
   "metadata": {},
   "outputs": [],
   "source": [
    "x = sm.add_constant(x1)"
   ]
  },
  {
   "cell_type": "code",
   "execution_count": 10,
   "id": "4e827238",
   "metadata": {},
   "outputs": [
    {
     "data": {
      "text/html": [
       "<table class=\"simpletable\">\n",
       "<caption>OLS Regression Results</caption>\n",
       "<tr>\n",
       "  <th>Dep. Variable:</th>      <td>chl [mg m-3]</td>   <th>  R-squared:         </th>  <td>   0.582</td> \n",
       "</tr>\n",
       "<tr>\n",
       "  <th>Model:</th>                   <td>OLS</td>       <th>  Adj. R-squared:    </th>  <td>   0.582</td> \n",
       "</tr>\n",
       "<tr>\n",
       "  <th>Method:</th>             <td>Least Squares</td>  <th>  F-statistic:       </th>  <td>8.061e+05</td>\n",
       "</tr>\n",
       "<tr>\n",
       "  <th>Date:</th>             <td>Sat, 05 Feb 2022</td> <th>  Prob (F-statistic):</th>   <td>  0.00</td>  \n",
       "</tr>\n",
       "<tr>\n",
       "  <th>Time:</th>                 <td>13:38:12</td>     <th>  Log-Likelihood:    </th> <td>2.6357e+05</td>\n",
       "</tr>\n",
       "<tr>\n",
       "  <th>No. Observations:</th>      <td>579216</td>      <th>  AIC:               </th> <td>-5.271e+05</td>\n",
       "</tr>\n",
       "<tr>\n",
       "  <th>Df Residuals:</th>          <td>579214</td>      <th>  BIC:               </th> <td>-5.271e+05</td>\n",
       "</tr>\n",
       "<tr>\n",
       "  <th>Df Model:</th>              <td>     1</td>      <th>                     </th>      <td> </td>    \n",
       "</tr>\n",
       "<tr>\n",
       "  <th>Covariance Type:</th>      <td>nonrobust</td>    <th>                     </th>      <td> </td>    \n",
       "</tr>\n",
       "</table>\n",
       "<table class=\"simpletable\">\n",
       "<tr>\n",
       "         <td></td>            <th>coef</th>     <th>std err</th>      <th>t</th>      <th>P>|t|</th>  <th>[0.025</th>    <th>0.975]</th>  \n",
       "</tr>\n",
       "<tr>\n",
       "  <th>const</th>           <td>   -0.0811</td> <td>    0.000</td> <td> -191.000</td> <td> 0.000</td> <td>   -0.082</td> <td>   -0.080</td>\n",
       "</tr>\n",
       "<tr>\n",
       "  <th>phyc [mmol m-3]</th> <td>    0.2255</td> <td>    0.000</td> <td>  897.857</td> <td> 0.000</td> <td>    0.225</td> <td>    0.226</td>\n",
       "</tr>\n",
       "</table>\n",
       "<table class=\"simpletable\">\n",
       "<tr>\n",
       "  <th>Omnibus:</th>       <td>354918.888</td> <th>  Durbin-Watson:     </th>   <td>   0.276</td>  \n",
       "</tr>\n",
       "<tr>\n",
       "  <th>Prob(Omnibus):</th>   <td> 0.000</td>   <th>  Jarque-Bera (JB):  </th> <td>15998804.264</td>\n",
       "</tr>\n",
       "<tr>\n",
       "  <th>Skew:</th>            <td> 2.319</td>   <th>  Prob(JB):          </th>   <td>    0.00</td>  \n",
       "</tr>\n",
       "<tr>\n",
       "  <th>Kurtosis:</th>        <td>28.326</td>   <th>  Cond. No.          </th>   <td>    4.59</td>  \n",
       "</tr>\n",
       "</table><br/><br/>Notes:<br/>[1] Standard Errors assume that the covariance matrix of the errors is correctly specified."
      ],
      "text/plain": [
       "<class 'statsmodels.iolib.summary.Summary'>\n",
       "\"\"\"\n",
       "                            OLS Regression Results                            \n",
       "==============================================================================\n",
       "Dep. Variable:           chl [mg m-3]   R-squared:                       0.582\n",
       "Model:                            OLS   Adj. R-squared:                  0.582\n",
       "Method:                 Least Squares   F-statistic:                 8.061e+05\n",
       "Date:                Sat, 05 Feb 2022   Prob (F-statistic):               0.00\n",
       "Time:                        13:38:12   Log-Likelihood:             2.6357e+05\n",
       "No. Observations:              579216   AIC:                        -5.271e+05\n",
       "Df Residuals:                  579214   BIC:                        -5.271e+05\n",
       "Df Model:                           1                                         \n",
       "Covariance Type:            nonrobust                                         \n",
       "===================================================================================\n",
       "                      coef    std err          t      P>|t|      [0.025      0.975]\n",
       "-----------------------------------------------------------------------------------\n",
       "const              -0.0811      0.000   -191.000      0.000      -0.082      -0.080\n",
       "phyc [mmol m-3]     0.2255      0.000    897.857      0.000       0.225       0.226\n",
       "==============================================================================\n",
       "Omnibus:                   354918.888   Durbin-Watson:                   0.276\n",
       "Prob(Omnibus):                  0.000   Jarque-Bera (JB):         15998804.264\n",
       "Skew:                           2.319   Prob(JB):                         0.00\n",
       "Kurtosis:                      28.326   Cond. No.                         4.59\n",
       "==============================================================================\n",
       "\n",
       "Notes:\n",
       "[1] Standard Errors assume that the covariance matrix of the errors is correctly specified.\n",
       "\"\"\""
      ]
     },
     "execution_count": 10,
     "metadata": {},
     "output_type": "execute_result"
    }
   ],
   "source": [
    "results = sm.OLS(y,x).fit()\n",
    "results.summary()"
   ]
  },
  {
   "cell_type": "code",
   "execution_count": 12,
   "id": "96656eba",
   "metadata": {},
   "outputs": [
    {
     "data": {
      "image/png": "[encoded data removed]",
      "text/plain": [
       "<Figure size 432x288 with 1 Axes>"
      ]
     },
     "metadata": {
      "needs_background": "light"
     },
     "output_type": "display_data"
    }
   ],
   "source": [
    "plt.scatter(x1,y)\n",
    "yhat = 0.2255*x1 + -0.0811\n",
    "fig = plt.plot(x1,yhat, lw=4, c='orange', label = 'regression line')\n",
    "plt.xlabel('Fitoplankton', fontsize= 20)\n",
    "plt.ylabel('Klorofil', fontsize = 20)\n",
    "plt.show()"
   ]
  },
  {
   "cell_type": "code",
   "execution_count": null,
   "id": "46f1c823",
   "metadata": {},
   "outputs": [],
   "source": []
  }
 ],
 "metadata": {
  "kernelspec": {
   "display_name": "Python 3 (ipykernel)",
   "language": "python",
   "name": "python3"
  },
  "language_info": {
   "codemirror_mode": {
    "name": "ipython",
    "version": 3
   },
   "file_extension": ".py",
   "mimetype": "text/x-python",
   "name": "python",
   "nbconvert_exporter": "python",
   "pygments_lexer": "ipython3",
   "version": "3.9.7"
  }
 },
 "nbformat": 4,
 "nbformat_minor": 5
}
